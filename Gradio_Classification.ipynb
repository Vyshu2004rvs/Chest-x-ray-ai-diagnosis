{
 "cells": [
  {
   "cell_type": "code",
   "execution_count": 1,
   "id": "d9c86ab1-5db7-4931-b73e-7d0eb12fa3b9",
   "metadata": {},
   "outputs": [
    {
     "name": "stderr",
     "output_type": "stream",
     "text": [
      "WARNING:absl:Compiled the loaded model, but the compiled metrics have yet to be built. `model.compile_metrics` will be empty until you train or evaluate the model.\n"
     ]
    },
    {
     "name": "stdout",
     "output_type": "stream",
     "text": [
      "Running on local URL:  http://127.0.0.1:7861\n",
      "\n",
      "To create a public link, set `share=True` in `launch()`.\n"
     ]
    },
    {
     "data": {
      "text/html": [
       "<div><iframe src=\"http://127.0.0.1:7861/\" width=\"100%\" height=\"500\" allow=\"autoplay; camera; microphone; clipboard-read; clipboard-write;\" frameborder=\"0\" allowfullscreen></iframe></div>"
      ],
      "text/plain": [
       "<IPython.core.display.HTML object>"
      ]
     },
     "metadata": {},
     "output_type": "display_data"
    },
    {
     "data": {
      "text/plain": []
     },
     "execution_count": 1,
     "metadata": {},
     "output_type": "execute_result"
    }
   ],
   "source": [
    "import gradio as gr\n",
    "import tensorflow as tf\n",
    "import numpy as np\n",
    "from PIL import Image\n",
    "\n",
    "# Load the trained model\n",
    "MODEL_PATH = \"../models/chest_xray_model.h5\"\n",
    "model = tf.keras.models.load_model(MODEL_PATH)\n",
    "\n",
    "# Define class labels\n",
    "class_names=['COVID19', 'NORMAL', 'PNEUMONIA']\n",
    "\n",
    "def preprocess_image(image):\n",
    "    image = image.resize((224, 224))  # Resize image\n",
    "    img_array = np.expand_dims(image, axis=0)  # Add batch dimension\n",
    "    return img_array\n",
    "\n",
    "def predict_xray(image):\n",
    "    \"\"\"Predict disease from X-ray image\"\"\"\n",
    "    processed_image = preprocess_image(image)\n",
    "    predictions = model.predict(processed_image)\n",
    "    predicted_class = class_names[np.argmax(predictions)]\n",
    "    confidence = float(np.max(predictions))\n",
    "    \n",
    "    return f\"Prediction: {predicted_class}\\nConfidence: {confidence:.2f}\"\n",
    "\n",
    "# Create Gradio interface\n",
    "iface = gr.Interface(\n",
    "    fn=predict_xray,\n",
    "    inputs=gr.Image(type=\"pil\"),\n",
    "    outputs=\"text\",\n",
    "    title=\"Chest X-ray Classification\",\n",
    "    description=\"Upload a Chest X-ray to classify as Normal, Pneumonia, or COVID-19.\"\n",
    ")\n",
    "\n",
    "# Launch Gradio UI\n",
    "iface.launch()"
   ]
  },
  {
   "cell_type": "code",
   "execution_count": null,
   "id": "c46509d3-b444-4613-9507-ea170798bd31",
   "metadata": {},
   "outputs": [],
   "source": []
  }
 ],
 "metadata": {
  "kernelspec": {
   "display_name": "Python 3 (ipykernel)",
   "language": "python",
   "name": "python3"
  },
  "language_info": {
   "codemirror_mode": {
    "name": "ipython",
    "version": 3
   },
   "file_extension": ".py",
   "mimetype": "text/x-python",
   "name": "python",
   "nbconvert_exporter": "python",
   "pygments_lexer": "ipython3",
   "version": "3.11.10"
  }
 },
 "nbformat": 4,
 "nbformat_minor": 5
}
