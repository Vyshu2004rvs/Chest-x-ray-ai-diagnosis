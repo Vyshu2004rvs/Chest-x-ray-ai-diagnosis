{
 "cells": [
  {
   "cell_type": "code",
   "execution_count": 3,
   "id": "3f361fb5-f1ac-498c-916e-9704fe05dec1",
   "metadata": {},
   "outputs": [
    {
     "name": "stderr",
     "output_type": "stream",
     "text": [
      "WARNING:absl:Compiled the loaded model, but the compiled metrics have yet to be built. `model.compile_metrics` will be empty until you train or evaluate the model.\n"
     ]
    },
    {
     "name": "stdout",
     "output_type": "stream",
     "text": [
      "Running on local URL:  http://127.0.0.1:7861\n",
      "\n",
      "To create a public link, set `share=True` in `launch()`.\n"
     ]
    },
    {
     "data": {
      "text/html": [
       "<div><iframe src=\"http://127.0.0.1:7861/\" width=\"100%\" height=\"500\" allow=\"autoplay; camera; microphone; clipboard-read; clipboard-write;\" frameborder=\"0\" allowfullscreen></iframe></div>"
      ],
      "text/plain": [
       "<IPython.core.display.HTML object>"
      ]
     },
     "metadata": {},
     "output_type": "display_data"
    },
    {
     "data": {
      "text/plain": []
     },
     "execution_count": 3,
     "metadata": {},
     "output_type": "execute_result"
    }
   ],
   "source": [
    "import gradio as gr\n",
    "import tensorflow as tf\n",
    "import numpy as np\n",
    "import cv2\n",
    "import os\n",
    "from tensorflow.keras.models import load_model\n",
    "import matplotlib.pyplot as plt\n",
    "\n",
    "# Load the trained model\n",
    "model = load_model(\"models/multi_task_chest_xray_model.h5\")\n",
    "\n",
    "# Class labels\n",
    "disease_names = ['COVID19','PNEUMONIA','NORMAL']\n",
    "severity_names = ['Mild', 'Moderate', 'Severe']\n",
    "\n",
    "# Grad-CAM utility functions\n",
    "def get_last_conv_layer(model):\n",
    "    for layer in reversed(model.layers):\n",
    "        if isinstance(layer, tf.keras.layers.Conv2D):\n",
    "            return layer.name\n",
    "    raise ValueError(\"No convolutional layer found in the model.\")\n",
    "\n",
    "def make_gradcam_heatmap(img_array, model, last_conv_layer_name, pred_index=None, output_head='disease_output'):\n",
    "    grad_model = tf.keras.models.Model(\n",
    "        [model.inputs], \n",
    "        [model.get_layer(last_conv_layer_name).output, model.get_layer(output_head).output]\n",
    "    )\n",
    "    with tf.GradientTape() as tape:\n",
    "        conv_outputs, predictions = grad_model(img_array)\n",
    "        if pred_index is None:\n",
    "            pred_index = tf.argmax(predictions[0])\n",
    "        class_channel = predictions[:, pred_index]\n",
    "    grads = tape.gradient(class_channel, conv_outputs)\n",
    "    pooled_grads = tf.reduce_mean(grads, axis=(0, 1, 2))\n",
    "    conv_outputs = conv_outputs[0]\n",
    "    heatmap = conv_outputs @ pooled_grads[..., tf.newaxis]\n",
    "    heatmap = tf.squeeze(heatmap)\n",
    "    heatmap = tf.maximum(heatmap, 0) / tf.math.reduce_max(heatmap)\n",
    "    return heatmap.numpy()\n",
    "\n",
    "def apply_heatmap(img_path, heatmap, alpha=0.4):\n",
    "    img = cv2.imread(img_path)\n",
    "    img = cv2.resize(img, (224, 224))\n",
    "    img = cv2.cvtColor(img, cv2.COLOR_BGR2RGB)\n",
    "    heatmap = cv2.resize(heatmap, (img.shape[1], img.shape[0]))\n",
    "    heatmap = np.uint8(255 * heatmap)\n",
    "    heatmap_color = cv2.applyColorMap(heatmap, cv2.COLORMAP_JET)\n",
    "    superimposed_img = cv2.addWeighted(img, 1 - alpha, heatmap_color, alpha, 0)\n",
    "    return superimposed_img\n",
    "\n",
    "# Prediction + Grad-CAM function\n",
    "def predict_and_explain(img_path):\n",
    "    # Preprocess\n",
    "    image = tf.io.read_file(img_path)\n",
    "    image = tf.image.decode_image(image, channels=3)\n",
    "    image = tf.image.resize(image, [224, 224])\n",
    "    image = tf.cast(image, tf.float32) / 255.0\n",
    "    image = tf.expand_dims(image, 0)\n",
    "\n",
    "    # Predict\n",
    "    disease_pred, severity_pred = model.predict(image)\n",
    "    disease_label = np.argmax(disease_pred[0])\n",
    "    severity_label = np.argmax(severity_pred[0])\n",
    "\n",
    "    disease_result = disease_names[disease_label]\n",
    "    severity_result = severity_names[severity_label] if disease_result != 'NORMAL' else \"N/A\"\n",
    "\n",
    "    # Grad-CAM\n",
    "    conv_layer = get_last_conv_layer(model)\n",
    "    heatmap_disease = make_gradcam_heatmap(image, model, conv_layer, output_head='disease_output')\n",
    "    heatmap_severity = make_gradcam_heatmap(image, model, conv_layer, output_head='severity_output')\n",
    "\n",
    "    # Apply heatmap\n",
    "    heatmap_img_disease = apply_heatmap(img_path, heatmap_disease)\n",
    "    heatmap_img_severity = apply_heatmap(img_path, heatmap_severity)\n",
    "\n",
    "    return disease_result, severity_result, heatmap_img_disease, heatmap_img_severity\n",
    "\n",
    "# Gradio UI\n",
    "demo = gr.Interface(\n",
    "    fn=predict_and_explain,\n",
    "    inputs=gr.Image(type=\"filepath\", label=\"Upload Chest X-ray\"),\n",
    "    outputs=[\n",
    "        gr.Text(label=\"Predicted Disease\"),\n",
    "        gr.Text(label=\"Predicted Severity\"),\n",
    "        gr.Image(label=\"Grad-CAM: Disease\"),\n",
    "        gr.Image(label=\"Grad-CAM: Severity\"),\n",
    "    ],\n",
    "    title=\"Chest X-ray Classification with Severity Prediction and Explainability\",\n",
    "    description=\"Upload a Chest X-ray to classify it as COVID-19, Pneumonia, or Normal and see severity (if applicable) with Grad-CAM heatmaps.\"\n",
    ")\n",
    "\n",
    "demo.launch()"
   ]
  },
  {
   "cell_type": "code",
   "execution_count": null,
   "id": "83cd5d8a-b97d-4639-a84c-f35c677bb359",
   "metadata": {},
   "outputs": [],
   "source": []
  }
 ],
 "metadata": {
  "kernelspec": {
   "display_name": "Python 3 (ipykernel)",
   "language": "python",
   "name": "python3"
  },
  "language_info": {
   "codemirror_mode": {
    "name": "ipython",
    "version": 3
   },
   "file_extension": ".py",
   "mimetype": "text/x-python",
   "name": "python",
   "nbconvert_exporter": "python",
   "pygments_lexer": "ipython3",
   "version": "3.11.10"
  }
 },
 "nbformat": 4,
 "nbformat_minor": 5
}
